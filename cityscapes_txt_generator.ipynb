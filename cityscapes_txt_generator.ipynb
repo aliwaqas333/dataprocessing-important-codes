{
 "cells": [
  {
   "cell_type": "markdown",
   "id": "76a43e7d",
   "metadata": {},
   "source": [
    "# Python notebook for creating txt files in the same format as required by cityscapes dataset"
   ]
  },
  {
   "cell_type": "code",
   "execution_count": 54,
   "id": "fd1f7d09",
   "metadata": {},
   "outputs": [],
   "source": [
    "import numpy\n",
    "import cv2\n",
    "import glob\n",
    "import os"
   ]
  },
  {
   "cell_type": "code",
   "execution_count": 55,
   "id": "e7d3c4ef",
   "metadata": {},
   "outputs": [],
   "source": [
    "targetFolder = \"gtFine/delamination\"\n",
    "imagesFolder = \"leftImg8bit/delamination\"\n",
    "output_file = \"cityscapes_train_list\"\n",
    "targetExtension = '.png'\n",
    "className = \"delamination\""
   ]
  },
  {
   "cell_type": "code",
   "execution_count": 56,
   "id": "9a6728a0",
   "metadata": {},
   "outputs": [],
   "source": [
    "imgList = os.listdir(imagesFolder)\n",
    "targetList = os.listdir(targetFolder)\n",
    "imgList.sort()\n",
    "targetList.sort()\n",
    "assert len(imgList) == len(targetList), \"target images and mask images must be equal\""
   ]
  },
  {
   "cell_type": "code",
   "execution_count": 59,
   "id": "63605a65",
   "metadata": {},
   "outputs": [],
   "source": [
    "with open('cityscapes_train_list_{}.txt'.format(className), 'w') as f:\n",
    "    for idx, path in enumerate(imgList):   \n",
    "        str = \"leftImg8bit/{0}/{1} gtFine/{2}/{3}\\n\".format(className, path, className, path[:-4]+targetExtension)\n",
    "        f.write(str)"
   ]
  },
  {
   "cell_type": "code",
   "execution_count": null,
   "id": "8ac3466c",
   "metadata": {},
   "outputs": [],
   "source": []
  }
 ],
 "metadata": {
  "kernelspec": {
   "display_name": "Python 3 (ipykernel)",
   "language": "python",
   "name": "python3"
  },
  "language_info": {
   "codemirror_mode": {
    "name": "ipython",
    "version": 3
   },
   "file_extension": ".py",
   "mimetype": "text/x-python",
   "name": "python",
   "nbconvert_exporter": "python",
   "pygments_lexer": "ipython3",
   "version": "3.8.8"
  }
 },
 "nbformat": 4,
 "nbformat_minor": 5
}
